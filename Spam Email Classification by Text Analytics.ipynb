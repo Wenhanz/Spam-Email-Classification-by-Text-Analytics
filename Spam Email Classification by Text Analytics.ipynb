{
 "cells": [
  {
   "cell_type": "markdown",
   "metadata": {},
   "source": [
    "# Email spam classification"
   ]
  },
  {
   "cell_type": "markdown",
   "metadata": {},
   "source": [
    "   - The dataset contains 3 subfolders:\n",
    "      - `ham` contains ham emails.\n",
    "      - `spam` contains spam emails.\n",
    "      - `testing` is a folder containing test emails for your classifier. The ham/spam label is in the filename.\n",
    "      "
   ]
  },
  {
   "cell_type": "markdown",
   "metadata": {},
   "source": [
    "### (a) Print the number of ham and spam emails \n",
    "In addition to providing the code, respond to the following questions:\n",
    "\n",
    "   - Is this dataset imbalanced? Will this be problematic in training the model?\n",
    "   - If so, how would you address it?"
   ]
  },
  {
   "cell_type": "code",
   "execution_count": 1,
   "metadata": {
    "ExecuteTime": {
     "end_time": "2019-03-26T17:25:11.986670Z",
     "start_time": "2019-03-26T17:25:11.918959Z"
    }
   },
   "outputs": [
    {
     "name": "stdout",
     "output_type": "stream",
     "text": [
      "number of ham:  1500\n",
      "number of spam:  3671\n"
     ]
    }
   ],
   "source": [
    "import glob\n",
    "\n",
    "ham_filenames = glob.glob('./email-data/ham/*.txt')\n",
    "spam_filenames = glob.glob('./email-data/spam/*.txt')\n",
    "\n",
    "ham_num = len(ham_filenames)\n",
    "spam_num = len(spam_filenames)\n",
    "\n",
    "print('number of ham: ', ham_num)\n",
    "print('number of spam: ', spam_num)"
   ]
  },
  {
   "cell_type": "markdown",
   "metadata": {},
   "source": [
    "It is a imbalanced dataset. It can be problematic which would affect the model's performance.\n",
    "It is better to use F1 score, confusion matrices or other methods to measure the performance of the model rather than accuracy.\n"
   ]
  },
  {
   "cell_type": "markdown",
   "metadata": {},
   "source": [
    "### (b) Construct the documents\n",
    "\n",
    "   - Provided below is a function that returns a document present in a file given a fileName.\n",
    "   - The function performs some preprocessing to (1) remove punctuation, (2),(3) remove whitespace and (4) lowercase all words.\n",
    "   - Use this function to construct a list of documents.\n",
    "   - Also construct a list of document labels containing `1` for spam and `0` for ham."
   ]
  },
  {
   "cell_type": "code",
   "execution_count": 4,
   "metadata": {
    "ExecuteTime": {
     "end_time": "2019-03-26T17:25:53.923441Z",
     "start_time": "2019-03-26T17:25:53.917484Z"
    }
   },
   "outputs": [],
   "source": [
    "import re\n",
    "import string\n",
    "import codecs\n",
    "\n",
    "def makeWordList(path):\n",
    "    \n",
    "    with codecs.open(path, \"r\", encoding='utf-8', errors='ignore') as f:\n",
    "        corpus_text = f.read()\n",
    "\n",
    "    for c in string.punctuation:\n",
    "        corpus_text = corpus_text.replace(c, \"\")  # -- (1)\n",
    "    \n",
    "    text = re.sub(r'\\S*\\d\\S*','',corpus_text) # -- (2)\n",
    "    text = re.sub(r'[^\\w\\s]','',text)         # -- (3)\n",
    "    \n",
    "    text = text.lower().split()           # -- (4)         \n",
    "    \n",
    "    li = []\n",
    "    for token in text:\n",
    "        li.append(token)\n",
    "\n",
    "    return \" \".join(li)"
   ]
  },
  {
   "cell_type": "code",
   "execution_count": 5,
   "metadata": {
    "ExecuteTime": {
     "end_time": "2019-03-26T17:25:57.932491Z",
     "start_time": "2019-03-26T17:25:54.857072Z"
    }
   },
   "outputs": [],
   "source": [
    "# your code here\n",
    "emails = []\n",
    "\n",
    "for file_name in ham_filenames:\n",
    "    emails.append(makeWordList(file_name))\n",
    "\n",
    "for file_name in spam_filenames:\n",
    "    emails.append(makeWordList(file_name))"
   ]
  },
  {
   "cell_type": "code",
   "execution_count": 6,
   "metadata": {
    "ExecuteTime": {
     "end_time": "2019-03-26T17:25:58.418619Z",
     "start_time": "2019-03-26T17:25:57.934996Z"
    }
   },
   "outputs": [
    {
     "data": {
      "text/plain": [
       "5171"
      ]
     },
     "execution_count": 6,
     "metadata": {},
     "output_type": "execute_result"
    }
   ],
   "source": [
    "import numpy as np\n",
    "\n",
    "spam_labels = [1 for i in range(spam_num)]\n",
    "ham_labels = [0 for i in range(ham_num)]\n",
    "email_labels = ham_labels + spam_labels\n",
    "y = np.array(email_labels)\n",
    "len(email_labels)"
   ]
  },
  {
   "cell_type": "markdown",
   "metadata": {},
   "source": [
    "### (c) Construct the document matrix `X` as a matrix of word frequencies\n",
    "   - Use the `CountVectorizer` from scikit-learn.\n",
    "   - Set `min_df=50`; this drops words that don't occur in at least 50 documents.\n",
    "   - Set `stop_words=\"english\"` and `max_df=0.8` to filter out stop-words.\n",
    "   - Print the size of the vocabulary (number of unique words)"
   ]
  },
  {
   "cell_type": "code",
   "execution_count": 7,
   "metadata": {
    "ExecuteTime": {
     "end_time": "2019-03-26T17:26:11.615367Z",
     "start_time": "2019-03-26T17:26:07.513943Z"
    }
   },
   "outputs": [
    {
     "name": "stdout",
     "output_type": "stream",
     "text": [
      "1680\n"
     ]
    }
   ],
   "source": [
    "from sklearn.feature_extraction.text import CountVectorizer\n",
    "vectorizer = CountVectorizer(min_df=50,stop_words=\"english\",max_df=0.8)\n",
    "X = vectorizer.fit_transform(emails)\n",
    "vocabulary_size = len(vectorizer.get_feature_names())\n",
    "print(vocabulary_size)"
   ]
  },
  {
   "cell_type": "markdown",
   "metadata": {},
   "source": [
    "### (d) k-NN, SVM, random forest: Hyperparameter selection\n",
    "\n",
    "Now that you have your documents and labels as training data, you can perform 5-fold cross-validation to select the hyperparameters for different learning algorithms.\n",
    "\n",
    "The hyperparameter with the best performance averaged across 5 folds is chosen. Use the **weighted F1-score** as the evaluation metric (i.e., for the `f1_score` function imported from `sklearn.metrics`, be sure to use the parameter `average='weighted'`).\n",
    "\n",
    "   - k-NN: Select `k` from a range of values of your choice.\n",
    "   - SVM: (SVC) Select `C` from a range of your choice, use any kernel that performs well.\n",
    "   - Random forest: Select `n_estimators` **and** `max_depth` from a grid of your choice.\n",
    "\n",
    "Store each chosen hyperparameter as `best_k`, `best_C`, `best_n_estimators`, and `best_max_depth` respectively.\n",
    "\n",
    "Provided is some seed code for cross-validation that you may modify and reuse. Do not use the cross-validations score or grid-search functions from scikit-learn (you may use `KFold`)."
   ]
  },
  {
   "cell_type": "code",
   "execution_count": 8,
   "metadata": {
    "ExecuteTime": {
     "end_time": "2019-03-26T17:26:21.230690Z",
     "start_time": "2019-03-26T17:26:21.065270Z"
    }
   },
   "outputs": [],
   "source": [
    "from sklearn import svm\n",
    "from sklearn.model_selection import KFold\n",
    "import numpy as np\n",
    "from sklearn.metrics import f1_score\n",
    "from sklearn.neighbors import KNeighborsClassifier\n",
    "from sklearn.svm import SVC\n",
    "from sklearn.ensemble import RandomForestClassifier \n",
    "import warnings \n",
    "warnings.filterwarnings(\"ignore\") \n",
    "\n",
    "num_folds = 5\n",
    "k_fold = KFold(num_folds)\n",
    "indices = range(len(emails))\n",
    "\n",
    "def hyperparameter_selection(model, hyperparameter_settings):\n",
    "   \n",
    "    best_hyperparam_setting = None\n",
    "    best_cross_val_score = -np.inf  # assumes that a higher score is better\n",
    "    for hyperparameter in hyperparameter_settings:\n",
    "        fold_scores = []\n",
    "        # your code to train and score the training data here\n",
    "        for train_indices, val_indices in k_fold.split(indices):\n",
    "            if model =='knn':\n",
    "                classifier = KNeighborsClassifier(n_neighbors=hyperparameter)\n",
    "            elif model =='svm':\n",
    "                classifier = SVC(C=hyperparameter)\n",
    "            elif model == 'rf':\n",
    "                num_trees, max_depth = hyperparameter\n",
    "                classifier = RandomForestClassifier(n_estimators=num_trees,\n",
    "                                            max_depth=max_depth,\n",
    "                                            random_state=0)\n",
    "            classifier.fit(X[train_indices],\n",
    "                           y[train_indices])\n",
    "            predicted_val_labels = classifier.predict(X[val_indices])\n",
    "            score = f1_score(y[val_indices], predicted_val_labels, average='weighted')\n",
    "            fold_scores.append(score)\n",
    "\n",
    "        cross_val_score = np.mean(fold_scores)\n",
    "        print('hyperparameter = ', hyperparameter, ' ', cross_val_score)\n",
    "        if cross_val_score > best_cross_val_score:  # assumes that a higher score is better\n",
    "            best_cross_val_score = cross_val_score\n",
    "            best_hyperparam_setting = hyperparameter\n",
    "            \n",
    "    print('Best hyperparameter setting:', best_hyperparam_setting)\n",
    "    return best_hyperparam_setting"
   ]
  },
  {
   "cell_type": "code",
   "execution_count": 9,
   "metadata": {
    "ExecuteTime": {
     "end_time": "2019-03-26T17:26:33.599149Z",
     "start_time": "2019-03-26T17:26:23.611433Z"
    }
   },
   "outputs": [
    {
     "name": "stdout",
     "output_type": "stream",
     "text": [
      "hyperparameter =  2   0.9296795735512214\n",
      "hyperparameter =  3   0.9369790471526201\n",
      "hyperparameter =  4   0.9251695988388565\n",
      "hyperparameter =  5   0.9117659336830704\n",
      "hyperparameter =  6   0.9150940499281814\n",
      "hyperparameter =  7   0.8990806340546393\n",
      "hyperparameter =  8   0.9021406171359443\n",
      "hyperparameter =  9   0.8912059431293173\n",
      "hyperparameter =  10   0.8946710696326241\n",
      "hyperparameter =  11   0.8849165576324985\n",
      "Best hyperparameter setting: 3\n"
     ]
    }
   ],
   "source": [
    "# KNN\n",
    "hyperparameter_settings_knn = [k for k in range(2, 12)]\n",
    "best_k = hyperparameter_selection('knn', hyperparameter_settings_knn)"
   ]
  },
  {
   "cell_type": "code",
   "execution_count": 10,
   "metadata": {
    "ExecuteTime": {
     "end_time": "2019-03-26T17:28:09.106026Z",
     "start_time": "2019-03-26T17:26:33.602514Z"
    }
   },
   "outputs": [
    {
     "name": "stdout",
     "output_type": "stream",
     "text": [
      "hyperparameter =  0.001   0.6781322737468793\n",
      "hyperparameter =  0.01   0.6781322737468793\n",
      "hyperparameter =  0.1   0.7917959815026101\n",
      "hyperparameter =  1   0.906839173827748\n",
      "hyperparameter =  10   0.9720703668813722\n",
      "hyperparameter =  50   0.9855609280130853\n",
      "hyperparameter =  100   0.9857816531393448\n",
      "hyperparameter =  1000   0.9837546520507592\n",
      "Best hyperparameter setting: 100\n"
     ]
    }
   ],
   "source": [
    "# SVM\n",
    "hyperparameter_settings_svm = [0.001, 0.01, 0.1, 1, 10, 50, 100, 1000]\n",
    "best_C = hyperparameter_selection('svm', hyperparameter_settings_svm)"
   ]
  },
  {
   "cell_type": "code",
   "execution_count": 11,
   "metadata": {
    "ExecuteTime": {
     "end_time": "2019-03-26T17:29:26.584096Z",
     "start_time": "2019-03-26T17:28:09.108769Z"
    }
   },
   "outputs": [
    {
     "name": "stdout",
     "output_type": "stream",
     "text": [
      "hyperparameter =  (50, 3)   0.8338273998448844\n",
      "hyperparameter =  (50, 4)   0.8440784894217362\n",
      "hyperparameter =  (50, 5)   0.8596099665123715\n",
      "hyperparameter =  (50, 6)   0.8750856093115992\n",
      "hyperparameter =  (50, None)   0.9839366917636699\n",
      "hyperparameter =  (100, 3)   0.8268838056411905\n",
      "hyperparameter =  (100, 4)   0.8423409610751049\n",
      "hyperparameter =  (100, 5)   0.8554153836545938\n",
      "hyperparameter =  (100, 6)   0.8701648177924417\n",
      "hyperparameter =  (100, None)   0.9847289444903604\n",
      "hyperparameter =  (150, 3)   0.8180445818701042\n",
      "hyperparameter =  (150, 4)   0.8404695177581634\n",
      "hyperparameter =  (150, 5)   0.8554356188065413\n",
      "hyperparameter =  (150, 6)   0.8684421840995249\n",
      "hyperparameter =  (150, None)   0.9854181767951433\n",
      "hyperparameter =  (200, 3)   0.819774883607154\n",
      "hyperparameter =  (200, 4)   0.8410645070274505\n",
      "hyperparameter =  (200, 5)   0.8558439481330199\n",
      "hyperparameter =  (200, 6)   0.8680620332640505\n",
      "hyperparameter =  (200, None)   0.9852967216327093\n",
      "hyperparameter =  (250, 3)   0.819774883607154\n",
      "hyperparameter =  (250, 4)   0.8412285681764924\n",
      "hyperparameter =  (250, 5)   0.8561618166701785\n",
      "hyperparameter =  (250, 6)   0.8692608375236344\n",
      "hyperparameter =  (250, None)   0.9853859132368985\n",
      "Best hyperparameter setting: (150, None)\n"
     ]
    }
   ],
   "source": [
    "# Random Forest\n",
    "hyperparameter_settings_rf = [(num_trees, max_depth)\n",
    "                              for num_trees in [50, 100, 150, 200, 250]\n",
    "                              for max_depth in [3, 4, 5, 6, None]]\n",
    "best_n_estimators, best_max_depth = hyperparameter_selection(\n",
    "    'rf', hyperparameter_settings_rf)"
   ]
  },
  {
   "cell_type": "markdown",
   "metadata": {},
   "source": [
    "### (e) Classifier testing: Precision-Recall and ROC curves [20 points]\n",
    "\n",
    "   - Use the best hyperparameters for each classifier from the previous question to **train** your classifiers on the training data.\n",
    "   - Use test emails to in the `testing` folder to **test** your classifiers and construct the plots below.\n",
    "\n",
    "Things to plot:\n",
    "\n",
    "   - Construct one plot containing 3 ROC curves, one for each classifier.\n",
    "   - In the legend of this plot, display the AUC for each classifier.\n",
    "   - Construct one plot containing 3 precision-recall curves, one for each classifier.\n",
    "   - In the legend of each plot, display the average precision for each classifier.\n",
    "\n",
    "Note that these plots are on the test data: you will have to read in this data, construct a document matrix and labels. Some words in the test data may not have been present in the training data: there are multiple ways to address this, briefly describe your approach.\n",
    "\n",
    "Things to answer:\n",
    "\n",
    "   - Of the ROC and Precision-Recall curves, which one would you use for this task and why?\n",
    "   - Which classifier is the best, according to your chosen curves?"
   ]
  },
  {
   "cell_type": "code",
   "execution_count": 12,
   "metadata": {
    "ExecuteTime": {
     "end_time": "2019-03-26T17:37:00.319104Z",
     "start_time": "2019-03-26T17:37:00.047558Z"
    }
   },
   "outputs": [],
   "source": [
    "test_filenames = glob.glob('./email-data/testing/*.txt')\n",
    "test_emails = []\n",
    "test_labels = []\n",
    "for file_name in test_filenames:\n",
    "    if 'spam' in file_name:\n",
    "        test_labels.append(1)\n",
    "    elif 'ham' in file_name:\n",
    "        test_labels.append(0)\n",
    "    test_emails.append(makeWordList(file_name))"
   ]
  },
  {
   "cell_type": "code",
   "execution_count": 13,
   "metadata": {
    "ExecuteTime": {
     "end_time": "2019-03-26T17:37:29.441612Z",
     "start_time": "2019-03-26T17:37:29.333216Z"
    }
   },
   "outputs": [
    {
     "data": {
      "text/plain": [
       "(100, 1680)"
      ]
     },
     "execution_count": 13,
     "metadata": {},
     "output_type": "execute_result"
    }
   ],
   "source": [
    "X_test = vectorizer.transform(test_emails)\n",
    "X_test.shape"
   ]
  },
  {
   "cell_type": "markdown",
   "metadata": {},
   "source": [
    "My approach to deal with the words in test data but not in train data is ignoring them. Since the occurrences of these words in train data which is larger than test data are zero, these words are not so important in the classification model. "
   ]
  },
  {
   "cell_type": "code",
   "execution_count": 14,
   "metadata": {
    "ExecuteTime": {
     "end_time": "2019-03-26T17:37:33.372856Z",
     "start_time": "2019-03-26T17:37:33.357166Z"
    }
   },
   "outputs": [
    {
     "data": {
      "text/plain": [
       "(100,)"
      ]
     },
     "execution_count": 14,
     "metadata": {},
     "output_type": "execute_result"
    }
   ],
   "source": [
    "y_test = np.array(test_labels)\n",
    "y_test.shape"
   ]
  },
  {
   "cell_type": "code",
   "execution_count": 15,
   "metadata": {
    "ExecuteTime": {
     "end_time": "2019-03-26T17:37:39.840293Z",
     "start_time": "2019-03-26T17:37:35.512005Z"
    }
   },
   "outputs": [],
   "source": [
    "# Classification with best hyperparameters\n",
    "from sklearn import metrics\n",
    "import matplotlib.pyplot as plt\n",
    "from sklearn.metrics import precision_recall_curve\n",
    "\n",
    "# knn\n",
    "knn = KNeighborsClassifier(n_neighbors=best_k)\n",
    "knn.fit(X, y)\n",
    "pred_knn = knn.predict(X_test)\n",
    "fpr_knn, tpr_knn, thresholds_knn = metrics.roc_curve(y_test, pred_knn)\n",
    "auc_knn = np.trapz(tpr_knn, fpr_knn)\n",
    "precision_knn, recall_knn, _knn = precision_recall_curve(y_test, pred_knn)\n",
    "avg_precision_knn = np.mean(precision_knn)\n",
    "\n",
    "# SVM\n",
    "svm = SVC(C=best_C)\n",
    "svm.fit(X, y)\n",
    "pred_svm = svm.predict(X_test)\n",
    "fpr_svm, tpr_svm, thresholds_svm = metrics.roc_curve(y_test, pred_svm)\n",
    "auc_svm = np.trapz(tpr_svm, fpr_svm)\n",
    "precision_svm, recall_svm, _svm = precision_recall_curve(y_test, pred_svm)\n",
    "avg_precision_svm = np.mean(precision_svm)\n",
    "\n",
    "# RF\n",
    "rf = RandomForestClassifier(\n",
    "    n_estimators=best_n_estimators, max_depth=best_max_depth, random_state=0)\n",
    "rf.fit(X, y)\n",
    "pred_rf = rf.predict(X_test)\n",
    "fpr_rf, tpr_rf, thresholds_rf = metrics.roc_curve(y_test, pred_rf)\n",
    "auc_rf = np.trapz(tpr_rf, fpr_rf)\n",
    "precision_rf, recall_rf, _rf = precision_recall_curve(y_test, pred_rf)\n",
    "avg_precision_rf = np.mean(precision_rf)"
   ]
  },
  {
   "cell_type": "code",
   "execution_count": 16,
   "metadata": {
    "ExecuteTime": {
     "end_time": "2019-03-26T17:37:40.219153Z",
     "start_time": "2019-03-26T17:37:39.842911Z"
    }
   },
   "outputs": [
    {
     "data": {
      "image/png": "[encoded data removed]",
      "text/plain": [
       "<Figure size 432x288 with 1 Axes>"
      ]
     },
     "metadata": {
      "needs_background": "light"
     },
     "output_type": "display_data"
    }
   ],
   "source": [
    "# plot for ROC\n",
    "plt.plot(fpr_knn, tpr_knn)\n",
    "plt.plot(fpr_svm, tpr_svm)\n",
    "plt.plot(fpr_rf, tpr_rf)\n",
    "ROC_labels = ['AUC of KNN {0:0.5f}'.format(auc_knn), 'AUC of SVM: {0:0.5f}'.format(\n",
    "    auc_svm), 'AUC of RF: {0:0.5f}'.format(auc_rf)]\n",
    "plt.legend(labels=ROC_labels)\n",
    "plt.xlabel('False Postive Rate')\n",
    "plt.ylabel('True Postive Rate')\n",
    "plt.title('ROC')\n",
    "plt.show()"
   ]
  },
  {
   "cell_type": "code",
   "execution_count": 17,
   "metadata": {
    "ExecuteTime": {
     "end_time": "2019-03-26T17:37:40.377823Z",
     "start_time": "2019-03-26T17:37:40.221389Z"
    }
   },
   "outputs": [
    {
     "data": {
      "image/png": "[encoded data removed]",
      "text/plain": [
       "<Figure size 432x288 with 1 Axes>"
      ]
     },
     "metadata": {
      "needs_background": "light"
     },
     "output_type": "display_data"
    }
   ],
   "source": [
    "# precision_recall_curve\n",
    "from sklearn.utils.fixes import signature\n",
    "\n",
    "step_kwargs = ({'step': 'post'}\n",
    "               if 'step' in signature(plt.fill_between).parameters\n",
    "               else {})\n",
    "\n",
    "plt.step(recall_knn, precision_knn, color='b', alpha=0.2,where='post')\n",
    "plt.fill_between(recall_knn, precision_knn, alpha=0.2, color='b', **step_kwargs)\n",
    "\n",
    "plt.step(recall_svm, precision_svm, color='r', alpha=0.2,where='post')\n",
    "plt.fill_between(recall_svm, precision_svm, alpha=0.2, color='r', **step_kwargs)\n",
    "\n",
    "plt.step(recall_rf, precision_rf, color='g', alpha=0.2,where='post')\n",
    "plt.fill_between(recall_rf, precision_rf, alpha=0.2, color='g', **step_kwargs)\n",
    "\n",
    "Precision_labels = ['AVG precision of KNN: {0:0.5f}'.format(avg_precision_knn), 'AVG precision of SVM: {0:0.5f}'.format(\n",
    "    avg_precision_svm), 'AVG precision of RF: {0:0.5f}'.format(avg_precision_rf)]\n",
    "plt.legend(labels=Precision_labels)\n",
    "plt.xlabel('Recall')\n",
    "plt.ylabel('Precision')\n",
    "plt.ylim([0.0, 1.05])\n",
    "plt.xlim([0.0, 1.0])\n",
    "plt.title('Precision-Recall Curves')\n",
    "plt.show()"
   ]
  },
  {
   "cell_type": "markdown",
   "metadata": {},
   "source": [
    "It is more proper to use ROC. The recall in PRC is as same as the TPR in ROC. The FPR is more important and more straigtforward than precision in this case, since it is bad if we classify ham emails(negative) as spam emails(positive). "
   ]
  }
 ],
 "metadata": {
  "kernelspec": {
   "display_name": "Python 3",
   "language": "python",
   "name": "python3"
  },
  "language_info": {
   "codemirror_mode": {
    "name": "ipython",
    "version": 3
   },
   "file_extension": ".py",
   "mimetype": "text/x-python",
   "name": "python",
   "nbconvert_exporter": "python",
   "pygments_lexer": "ipython3",
   "version": "3.6.8"
  }
 },
 "nbformat": 4,
 "nbformat_minor": 2
}
